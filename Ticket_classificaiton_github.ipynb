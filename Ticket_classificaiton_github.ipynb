{
 "nbformat": 4,
 "nbformat_minor": 0,
 "metadata": {
  "colab": {
   "provenance": []
  },
  "kernelspec": {
   "name": "python3",
   "display_name": "Python 3"
  },
  "language_info": {
   "name": "python"
  }
 },
 "cells": [
  {
   "cell_type": "code",
   "source": [
    "from google.colab import drive\n",
    "drive.mount('/content/drive')\n"
   ],
   "metadata": {
    "colab": {
     "base_uri": "https://localhost:8080/"
    },
    "id": "rYwDxlPaS-M6",
    "outputId": "b2f18957-b2f8-4661-c342-e9f058f270df"
   },
   "execution_count": 18,
   "outputs": [
    {
     "output_type": "stream",
     "name": "stdout",
     "text": [
      "Drive already mounted at /content/drive; to attempt to forcibly remount, call drive.mount(\"/content/drive\", force_remount=True).\n"
     ]
    }
   ]
  },
  {
   "cell_type": "code",
   "source": [
    "from datasets import load_dataset\n",
    "tickets = load_dataset(\"Tobi-Bueck/customer-support-tickets\")\n",
    "# Convert to pandas for easier EDA\n",
    "df = tickets['train'].to_pandas()\n",
    "print(f\"Dataset shape: {df.shape}\")\n",
    "print(df.columns.tolist())\n"
   ],
   "metadata": {
    "colab": {
     "base_uri": "https://localhost:8080/",
     "height": 336,
     "referenced_widgets": [
      "af9bc0577b194c2b835b58720c7f6baa",
      "be45888335b74f6e94f421032290c232",
      "731e43a1c94a4a7e8b275e9742d43210",
      "d50d7ed73b0647789d0bf820245342e9",
      "032b58e7f9a540efad87feb0ca64fd5b",
      "02202def05004b79b1a87b24e545df81",
      "9704fae4f65f4924bf513b074afe93a2",
      "748e7646f71248d9b5d3296390b7ff23",
      "706f6e404c5c4e2f897a59e4cd6bb5a2",
      "535a4432e73f42f98f48de8cf10ef6da",
      "10a486616b1c4d3ea9540fea6b9edf92",
      "f5885a19ac5f455a82c985c334b4d492",
      "6a82109e38d94f088a99c3c7ec7f779b",
      "0046a5164e4e4a23afbfadc52c34cb10",
      "e0eb5f786af04bda97e213c39b7e7ec7",
      "34e51054c7c2461ca94315fdac292a6f",
      "9d2dca746f4440548247c2371d4c1249",
      "1fc48df827584e768025b94fc6fa15d3",
      "135af620a1544b13b314d8b65b67cc36",
      "57c0626614b34efd9b2dbc8dc582394a",
      "5cf173a880b94a5eab1ca1b87926fb66",
      "1d5f847162ef444889a102fbe6e5782e",
      "cfeb8fe031e54945bf21af5d41a76fac",
      "ffd38f93fe0b40248dc73f19a3c65478",
      "99f8f44e56d9443d93acd37f50f44048",
      "14477e2cef0f4449a6bd541f2e33501d",
      "5179d3b22e4443c58b36eae9393f26da",
      "20cd79c8f49f491795dc43d67c90cdba",
      "fef42c66ba7c4c6da8d73cfca5d5d2e8",
      "024df5c6287045029f0416257dce6731",
      "0b91dd074f9741d6b02d9fafb233013a",
      "637f6f858eb64b49a818b9856c290c93",
      "4eef74547af24441a24567a31451b3da",
      "719d2fb7a3334725b0ecbcf9845fbe6a",
      "f95493842ee345c796ede7a2c0a97fa6",
      "e36fc7b29d7d4901984c2e916f6d0365",
      "6d756977b86a404490cc4424ee1541b2",
      "717ae352c592418fb4cd04f898726401",
      "3ae89ed4a6734225ab79d49d3c914561",
      "96b16e2611264c20b7c4e4a06a1799dd",
      "d102176695d74cf5bb0a6fc8914a1fdc",
      "bc329529ff1d48c0866c99def483708a",
      "79852dc41d8d4ee2b1f17cfeaec28527",
      "7fc60a27f33f4d8fb3a10591a545d7b0",
      "3e7630abf4af44c3aa7e41733e504d28",
      "3b7882f5a81b45ac96327919d085ca0f",
      "c36a24f207b14b93bc64b00b7173e43b",
      "44c95ef5226643bb9448e3eaf4d464cf",
      "a6a2e4b93da4449ab22b1c23abad6fac",
      "eac39c639f174488b885ae9a74e9f6a5",
      "7d87010ad613442f9f74922208310017",
      "a30b9b8bbd0d4e37ad82655c9bada289",
      "f259afcdd5744355ad0c253207562922",
      "cb1fd149d1e841c9ac8c5de8bee9ddf8",
      "4908fbf8eb49469a81cca9b61288931d"
     ]
    },
    "id": "4Kh0fK5sMvLa",
    "outputId": "1a681824-52aa-41d3-be35-cac973eee269"
   },
   "execution_count": 19,
   "outputs": [
    {
     "output_type": "stream",
     "name": "stderr",
     "text": [
      "/usr/local/lib/python3.12/dist-packages/huggingface_hub/utils/_auth.py:94: UserWarning: \n",
      "The secret `HF_TOKEN` does not exist in your Colab secrets.\n",
      "To authenticate with the Hugging Face Hub, create a token in your settings tab (https://huggingface.co/settings/tokens), set it as secret in your Google Colab and restart your session.\n",
      "You will be able to reuse this secret in all of your notebooks.\n",
      "Please note that authentication is recommended but still optional to access public models or datasets.\n",
      "  warnings.warn(\n"
     ]
    },
    {
     "output_type": "display_data",
     "data": {
      "text/plain": [
       "README.md: 0.00B [00:00, ?B/s]"
      ]
     },
     "metadata": {}
    },
    {
     "output_type": "display_data",
     "data": {
      "text/plain": [
       "aa_dataset-tickets-multi-lang-5-2-50-ver(…):   0%|          | 0.00/26.0M [00:00<?, ?B/s]"
      ]
     },
     "metadata": {}
    },
    {
     "output_type": "display_data",
     "data": {
      "text/plain": [
       "(…)set-tickets-german_normalized_50_5_2.csv: 0.00B [00:00, ?B/s]"
      ]
     },
     "metadata": {}
    },
    {
     "output_type": "display_data",
     "data": {
      "text/plain": [
       "dataset-tickets-multi-lang-4-20k.csv:   0%|          | 0.00/18.8M [00:00<?, ?B/s]"
      ]
     },
     "metadata": {}
    },
    {
     "output_type": "display_data",
     "data": {
      "text/plain": [
       "Generating train split:   0%|          | 0/61765 [00:00<?, ? examples/s]"
      ]
     },
     "metadata": {}
    },
    {
     "output_type": "stream",
     "name": "stdout",
     "text": [
      "Dataset shape: (61765, 16)\n",
      "['subject', 'body', 'answer', 'type', 'queue', 'priority', 'language', 'version', 'tag_1', 'tag_2', 'tag_3', 'tag_4', 'tag_5', 'tag_6', 'tag_7', 'tag_8']\n"
     ]
    }
   ]
  },
  {
   "cell_type": "code",
   "source": [
    "df.head()"
   ],
   "metadata": {
    "colab": {
     "base_uri": "https://localhost:8080/",
     "height": 293
    },
    "id": "yYMMJ7R0Myrh",
    "outputId": "0b340c32-7f42-4246-fea6-d45f9a3418ee"
   },
   "execution_count": null,
   "outputs": [
    {
     "output_type": "execute_result",
     "data": {
      "text/plain": [
       "                                             subject  \\\n",
       "0                    Wesentlicher Sicherheitsvorfall   \n",
       "1                                 Account Disruption   \n",
       "2  Query About Smart Home System Integration Feat...   \n",
       "3                  Inquiry Regarding Invoice Details   \n",
       "4  Question About Marketing Agency Software Compa...   \n",
       "\n",
       "                                                body  \\\n",
       "0  Sehr geehrtes Support-Team,\\n\\nich möchte eine...   \n",
       "1  Dear Customer Support Team,\\n\\nI am writing to...   \n",
       "2  Dear Customer Support Team,\\n\\nI hope this mes...   \n",
       "3  Dear Customer Support Team,\\n\\nI hope this mes...   \n",
       "4  Dear Support Team,\\n\\nI hope this message reac...   \n",
       "\n",
       "                                              answer      type  \\\n",
       "0  Vielen Dank für die Meldung des kritischen Sic...  Incident   \n",
       "1  Thank you for reaching out, <name>. We are awa...  Incident   \n",
       "2  Thank you for your inquiry. Our products suppo...   Request   \n",
       "3  We appreciate you reaching out with your billi...   Request   \n",
       "4  Thank you for your inquiry. Our product suppor...   Problem   \n",
       "\n",
       "                   queue priority language  version     tag_1       tag_2  \\\n",
       "0      Technical Support     high       de     51.0  Security      Outage   \n",
       "1      Technical Support     high       en     51.0   Account  Disruption   \n",
       "2  Returns and Exchanges   medium       en     51.0   Product     Feature   \n",
       "3   Billing and Payments      low       en     51.0   Billing     Payment   \n",
       "4    Sales and Pre-Sales   medium       en     51.0   Product     Feature   \n",
       "\n",
       "          tag_3          tag_4         tag_5 tag_6 tag_7 tag_8  \n",
       "0    Disruption    Data Breach          None  None  None  None  \n",
       "1        Outage             IT  Tech Support  None  None  None  \n",
       "2  Tech Support           None          None  None  None  None  \n",
       "3       Account  Documentation      Feedback  None  None  None  \n",
       "4      Feedback   Tech Support          None  None  None  None  "
      ],
      "text/html": [
       "\n",
       "  <div id=\"df-a1b09234-0022-49f6-9e06-1b0073f225f9\" class=\"colab-df-container\">\n",
       "    <div>\n",
       "<style scoped>\n",
       "    .dataframe tbody tr th:only-of-type {\n",
       "        vertical-align: middle;\n",
       "    }\n",
       "\n",
       "    .dataframe tbody tr th {\n",
       "        vertical-align: top;\n",
       "    }\n",
       "\n",
       "    .dataframe thead th {\n",
       "        text-align: right;\n",
       "    }\n",
       "</style>\n",
       "<table border=\"1\" class=\"dataframe\">\n",
       "  <thead>\n",
       "    <tr style=\"text-align: right;\">\n",
       "      <th></th>\n",
       "      <th>subject</th>\n",
       "      <th>body</th>\n",
       "      <th>answer</th>\n",
       "      <th>type</th>\n",
       "      <th>queue</th>\n",
       "      <th>priority</th>\n",
       "      <th>language</th>\n",
       "      <th>version</th>\n",
       "      <th>tag_1</th>\n",
       "      <th>tag_2</th>\n",
       "      <th>tag_3</th>\n",
       "      <th>tag_4</th>\n",
       "      <th>tag_5</th>\n",
       "      <th>tag_6</th>\n",
       "      <th>tag_7</th>\n",
       "      <th>tag_8</th>\n",
       "    </tr>\n",
       "  </thead>\n",
       "  <tbody>\n",
       "    <tr>\n",
       "      <th>0</th>\n",
       "      <td>Wesentlicher Sicherheitsvorfall</td>\n",
       "      <td>Sehr geehrtes Support-Team,\\n\\nich möchte eine...</td>\n",
       "      <td>Vielen Dank für die Meldung des kritischen Sic...</td>\n",
       "      <td>Incident</td>\n",
       "      <td>Technical Support</td>\n",
       "      <td>high</td>\n",
       "      <td>de</td>\n",
       "      <td>51.0</td>\n",
       "      <td>Security</td>\n",
       "      <td>Outage</td>\n",
       "      <td>Disruption</td>\n",
       "      <td>Data Breach</td>\n",
       "      <td>None</td>\n",
       "      <td>None</td>\n",
       "      <td>None</td>\n",
       "      <td>None</td>\n",
       "    </tr>\n",
       "    <tr>\n",
       "      <th>1</th>\n",
       "      <td>Account Disruption</td>\n",
       "      <td>Dear Customer Support Team,\\n\\nI am writing to...</td>\n",
       "      <td>Thank you for reaching out, &lt;name&gt;. We are awa...</td>\n",
       "      <td>Incident</td>\n",
       "      <td>Technical Support</td>\n",
       "      <td>high</td>\n",
       "      <td>en</td>\n",
       "      <td>51.0</td>\n",
       "      <td>Account</td>\n",
       "      <td>Disruption</td>\n",
       "      <td>Outage</td>\n",
       "      <td>IT</td>\n",
       "      <td>Tech Support</td>\n",
       "      <td>None</td>\n",
       "      <td>None</td>\n",
       "      <td>None</td>\n",
       "    </tr>\n",
       "    <tr>\n",
       "      <th>2</th>\n",
       "      <td>Query About Smart Home System Integration Feat...</td>\n",
       "      <td>Dear Customer Support Team,\\n\\nI hope this mes...</td>\n",
       "      <td>Thank you for your inquiry. Our products suppo...</td>\n",
       "      <td>Request</td>\n",
       "      <td>Returns and Exchanges</td>\n",
       "      <td>medium</td>\n",
       "      <td>en</td>\n",
       "      <td>51.0</td>\n",
       "      <td>Product</td>\n",
       "      <td>Feature</td>\n",
       "      <td>Tech Support</td>\n",
       "      <td>None</td>\n",
       "      <td>None</td>\n",
       "      <td>None</td>\n",
       "      <td>None</td>\n",
       "      <td>None</td>\n",
       "    </tr>\n",
       "    <tr>\n",
       "      <th>3</th>\n",
       "      <td>Inquiry Regarding Invoice Details</td>\n",
       "      <td>Dear Customer Support Team,\\n\\nI hope this mes...</td>\n",
       "      <td>We appreciate you reaching out with your billi...</td>\n",
       "      <td>Request</td>\n",
       "      <td>Billing and Payments</td>\n",
       "      <td>low</td>\n",
       "      <td>en</td>\n",
       "      <td>51.0</td>\n",
       "      <td>Billing</td>\n",
       "      <td>Payment</td>\n",
       "      <td>Account</td>\n",
       "      <td>Documentation</td>\n",
       "      <td>Feedback</td>\n",
       "      <td>None</td>\n",
       "      <td>None</td>\n",
       "      <td>None</td>\n",
       "    </tr>\n",
       "    <tr>\n",
       "      <th>4</th>\n",
       "      <td>Question About Marketing Agency Software Compa...</td>\n",
       "      <td>Dear Support Team,\\n\\nI hope this message reac...</td>\n",
       "      <td>Thank you for your inquiry. Our product suppor...</td>\n",
       "      <td>Problem</td>\n",
       "      <td>Sales and Pre-Sales</td>\n",
       "      <td>medium</td>\n",
       "      <td>en</td>\n",
       "      <td>51.0</td>\n",
       "      <td>Product</td>\n",
       "      <td>Feature</td>\n",
       "      <td>Feedback</td>\n",
       "      <td>Tech Support</td>\n",
       "      <td>None</td>\n",
       "      <td>None</td>\n",
       "      <td>None</td>\n",
       "      <td>None</td>\n",
       "    </tr>\n",
       "  </tbody>\n",
       "</table>\n",
       "</div>\n",
       "    <div class=\"colab-df-buttons\">\n",
       "\n",
       "  <div class=\"colab-df-container\">\n",
       "    <button class=\"colab-df-convert\" onclick=\"convertToInteractive('df-a1b09234-0022-49f6-9e06-1b0073f225f9')\"\n",
       "            title=\"Convert this dataframe to an interactive table.\"\n",
       "            style=\"display:none;\">\n",
       "\n",
       "  <svg xmlns=\"http://www.w3.org/2000/svg\" height=\"24px\" viewBox=\"0 -960 960 960\">\n",
       "    <path d=\"M120-120v-720h720v720H120Zm60-500h600v-160H180v160Zm220 220h160v-160H400v160Zm0 220h160v-160H400v160ZM180-400h160v-160H180v160Zm440 0h160v-160H620v160ZM180-180h160v-160H180v160Zm440 0h160v-160H620v160Z\"/>\n",
       "  </svg>\n",
       "    </button>\n",
       "\n",
       "  <style>\n",
       "    .colab-df-container {\n",
       "      display:flex;\n",
       "      gap: 12px;\n",
       "    }\n",
       "\n",
       "    .colab-df-convert {\n",
       "      background-color: #E8F0FE;\n",
       "      border: none;\n",
       "      border-radius: 50%;\n",
       "      cursor: pointer;\n",
       "      display: none;\n",
       "      fill: #1967D2;\n",
       "      height: 32px;\n",
       "      padding: 0 0 0 0;\n",
       "      width: 32px;\n",
       "    }\n",
       "\n",
       "    .colab-df-convert:hover {\n",
       "      background-color: #E2EBFA;\n",
       "      box-shadow: 0px 1px 2px rgba(60, 64, 67, 0.3), 0px 1px 3px 1px rgba(60, 64, 67, 0.15);\n",
       "      fill: #174EA6;\n",
       "    }\n",
       "\n",
       "    .colab-df-buttons div {\n",
       "      margin-bottom: 4px;\n",
       "    }\n",
       "\n",
       "    [theme=dark] .colab-df-convert {\n",
       "      background-color: #3B4455;\n",
       "      fill: #D2E3FC;\n",
       "    }\n",
       "\n",
       "    [theme=dark] .colab-df-convert:hover {\n",
       "      background-color: #434B5C;\n",
       "      box-shadow: 0px 1px 3px 1px rgba(0, 0, 0, 0.15);\n",
       "      filter: drop-shadow(0px 1px 2px rgba(0, 0, 0, 0.3));\n",
       "      fill: #FFFFFF;\n",
       "    }\n",
       "  </style>\n",
       "\n",
       "    <script>\n",
       "      const buttonEl =\n",
       "        document.querySelector('#df-a1b09234-0022-49f6-9e06-1b0073f225f9 button.colab-df-convert');\n",
       "      buttonEl.style.display =\n",
       "        google.colab.kernel.accessAllowed ? 'block' : 'none';\n",
       "\n",
       "      async function convertToInteractive(key) {\n",
       "        const element = document.querySelector('#df-a1b09234-0022-49f6-9e06-1b0073f225f9');\n",
       "        const dataTable =\n",
       "          await google.colab.kernel.invokeFunction('convertToInteractive',\n",
       "                                                    [key], {});\n",
       "        if (!dataTable) return;\n",
       "\n",
       "        const docLinkHtml = 'Like what you see? Visit the ' +\n",
       "          '<a target=\"_blank\" href=https://colab.research.google.com/notebooks/data_table.ipynb>data table notebook</a>'\n",
       "          + ' to learn more about interactive tables.';\n",
       "        element.innerHTML = '';\n",
       "        dataTable['output_type'] = 'display_data';\n",
       "        await google.colab.output.renderOutput(dataTable, element);\n",
       "        const docLink = document.createElement('div');\n",
       "        docLink.innerHTML = docLinkHtml;\n",
       "        element.appendChild(docLink);\n",
       "      }\n",
       "    </script>\n",
       "  </div>\n",
       "\n",
       "\n",
       "    <div id=\"df-4d81a2c6-e270-411b-a554-035cd479ec36\">\n",
       "      <button class=\"colab-df-quickchart\" onclick=\"quickchart('df-4d81a2c6-e270-411b-a554-035cd479ec36')\"\n",
       "                title=\"Suggest charts\"\n",
       "                style=\"display:none;\">\n",
       "\n",
       "<svg xmlns=\"http://www.w3.org/2000/svg\" height=\"24px\"viewBox=\"0 0 24 24\"\n",
       "     width=\"24px\">\n",
       "    <g>\n",
       "        <path d=\"M19 3H5c-1.1 0-2 .9-2 2v14c0 1.1.9 2 2 2h14c1.1 0 2-.9 2-2V5c0-1.1-.9-2-2-2zM9 17H7v-7h2v7zm4 0h-2V7h2v10zm4 0h-2v-4h2v4z\"/>\n",
       "    </g>\n",
       "</svg>\n",
       "      </button>\n",
       "\n",
       "<style>\n",
       "  .colab-df-quickchart {\n",
       "      --bg-color: #E8F0FE;\n",
       "      --fill-color: #1967D2;\n",
       "      --hover-bg-color: #E2EBFA;\n",
       "      --hover-fill-color: #174EA6;\n",
       "      --disabled-fill-color: #AAA;\n",
       "      --disabled-bg-color: #DDD;\n",
       "  }\n",
       "\n",
       "  [theme=dark] .colab-df-quickchart {\n",
       "      --bg-color: #3B4455;\n",
       "      --fill-color: #D2E3FC;\n",
       "      --hover-bg-color: #434B5C;\n",
       "      --hover-fill-color: #FFFFFF;\n",
       "      --disabled-bg-color: #3B4455;\n",
       "      --disabled-fill-color: #666;\n",
       "  }\n",
       "\n",
       "  .colab-df-quickchart {\n",
       "    background-color: var(--bg-color);\n",
       "    border: none;\n",
       "    border-radius: 50%;\n",
       "    cursor: pointer;\n",
       "    display: none;\n",
       "    fill: var(--fill-color);\n",
       "    height: 32px;\n",
       "    padding: 0;\n",
       "    width: 32px;\n",
       "  }\n",
       "\n",
       "  .colab-df-quickchart:hover {\n",
       "    background-color: var(--hover-bg-color);\n",
       "    box-shadow: 0 1px 2px rgba(60, 64, 67, 0.3), 0 1px 3px 1px rgba(60, 64, 67, 0.15);\n",
       "    fill: var(--button-hover-fill-color);\n",
       "  }\n",
       "\n",
       "  .colab-df-quickchart-complete:disabled,\n",
       "  .colab-df-quickchart-complete:disabled:hover {\n",
       "    background-color: var(--disabled-bg-color);\n",
       "    fill: var(--disabled-fill-color);\n",
       "    box-shadow: none;\n",
       "  }\n",
       "\n",
       "  .colab-df-spinner {\n",
       "    border: 2px solid var(--fill-color);\n",
       "    border-color: transparent;\n",
       "    border-bottom-color: var(--fill-color);\n",
       "    animation:\n",
       "      spin 1s steps(1) infinite;\n",
       "  }\n",
       "\n",
       "  @keyframes spin {\n",
       "    0% {\n",
       "      border-color: transparent;\n",
       "      border-bottom-color: var(--fill-color);\n",
       "      border-left-color: var(--fill-color);\n",
       "    }\n",
       "    20% {\n",
       "      border-color: transparent;\n",
       "      border-left-color: var(--fill-color);\n",
       "      border-top-color: var(--fill-color);\n",
       "    }\n",
       "    30% {\n",
       "      border-color: transparent;\n",
       "      border-left-color: var(--fill-color);\n",
       "      border-top-color: var(--fill-color);\n",
       "      border-right-color: var(--fill-color);\n",
       "    }\n",
       "    40% {\n",
       "      border-color: transparent;\n",
       "      border-right-color: var(--fill-color);\n",
       "      border-top-color: var(--fill-color);\n",
       "    }\n",
       "    60% {\n",
       "      border-color: transparent;\n",
       "      border-right-color: var(--fill-color);\n",
       "    }\n",
       "    80% {\n",
       "      border-color: transparent;\n",
       "      border-right-color: var(--fill-color);\n",
       "      border-bottom-color: var(--fill-color);\n",
       "    }\n",
       "    90% {\n",
       "      border-color: transparent;\n",
       "      border-bottom-color: var(--fill-color);\n",
       "    }\n",
       "  }\n",
       "</style>\n",
       "\n",
       "      <script>\n",
       "        async function quickchart(key) {\n",
       "          const quickchartButtonEl =\n",
       "            document.querySelector('#' + key + ' button');\n",
       "          quickchartButtonEl.disabled = true;  // To prevent multiple clicks.\n",
       "          quickchartButtonEl.classList.add('colab-df-spinner');\n",
       "          try {\n",
       "            const charts = await google.colab.kernel.invokeFunction(\n",
       "                'suggestCharts', [key], {});\n",
       "          } catch (error) {\n",
       "            console.error('Error during call to suggestCharts:', error);\n",
       "          }\n",
       "          quickchartButtonEl.classList.remove('colab-df-spinner');\n",
       "          quickchartButtonEl.classList.add('colab-df-quickchart-complete');\n",
       "        }\n",
       "        (() => {\n",
       "          let quickchartButtonEl =\n",
       "            document.querySelector('#df-4d81a2c6-e270-411b-a554-035cd479ec36 button');\n",
       "          quickchartButtonEl.style.display =\n",
       "            google.colab.kernel.accessAllowed ? 'block' : 'none';\n",
       "        })();\n",
       "      </script>\n",
       "    </div>\n",
       "\n",
       "    </div>\n",
       "  </div>\n"
      ],
      "application/vnd.google.colaboratory.intrinsic+json": {
       "type": "dataframe",
       "variable_name": "df",
       "summary": "{\n  \"name\": \"df\",\n  \"rows\": 61765,\n  \"fields\": [\n    {\n      \"column\": \"subject\",\n      \"properties\": {\n        \"dtype\": \"string\",\n        \"num_unique_values\": 46635,\n        \"samples\": [\n          \"Compliance Report Generation: Zeitweilige Fehler im Predictive Maintenance System f\\u00fcr Solaranlagen\",\n          \"Betreff: St\\u00f6rung der IRS-Systemdienste\",\n          \"Inquiry About Scalable SaaS Project Management Solution Today\"\n        ],\n        \"semantic_type\": \"\",\n        \"description\": \"\"\n      }\n    },\n    {\n      \"column\": \"body\",\n      \"properties\": {\n        \"dtype\": \"string\",\n        \"num_unique_values\": 53364,\n        \"samples\": [\n          \"A healthcare provider encountered a possible data breach, probably due to outdated network protocols and unpatched devices. They attempted to resolve the issue through firmware updates and network segmentation. The provider is now seeking support to safeguard medical information and prevent similar incidents in the future.\",\n          \"Requesting assistance with integrating healthcare data into PostgreSQL.\",\n          \"Encountered a crash in the Investment Optimization System, which may be due to data overload or software errors. The system has been restarted, and logs have been checked, but the errors persist. Assistance is needed to resolve the issue.\"\n        ],\n        \"semantic_type\": \"\",\n        \"description\": \"\"\n      }\n    },\n    {\n      \"column\": \"answer\",\n      \"properties\": {\n        \"dtype\": \"string\",\n        \"num_unique_values\": 40139,\n        \"samples\": [\n          \"Dear <name>, thank you for contacting us about the synchronization errors you're facing between platforms. We regret the inconvenience this has caused. It seems the error could be due to the recent API updates as you mentioned. We aim to conduct a thorough investigation to pinpoint the source of the problem. Could you please share the exact error message you are receiving and specify the platforms involved in the sync? This information will aid us in diagnosing the issue and offering a solution. Alternatively, if needed, we can arrange a call at <tel_num> for a more in-depth discussion at your convenience. Kindly let us know a suitable time. We appreciate your patience and cooperation and look forward to resolving this for your <acc_num> account.\",\n          \"I am examining the problem with your investment forecasts, which is caused by a data feed disruption. Despite restarting the SQL Server, the issue remains. I will delve deeper and get back to you shortly to address it. Could you confirm a convenient time for a call at <tel_num> to go through this further?\",\n          \"Dear <name>, we sincerely apologize for the technical issue you faced on our data analytics platform today. We appreciate the steps you have already taken such as restarting the system and verifying updates. To better understand and address the issue, we would like to request more details. Could you please share the exact error message you received and the updates you recently installed? If necessary, we can arrange a call at your convenience to discuss this further. Please provide a suitable time to contact you at <tel_num>.\"\n        ],\n        \"semantic_type\": \"\",\n        \"description\": \"\"\n      }\n    },\n    {\n      \"column\": \"type\",\n      \"properties\": {\n        \"dtype\": \"category\",\n        \"num_unique_values\": 4,\n        \"samples\": [\n          \"Request\",\n          \"Change\",\n          \"Incident\"\n        ],\n        \"semantic_type\": \"\",\n        \"description\": \"\"\n      }\n    },\n    {\n      \"column\": \"queue\",\n      \"properties\": {\n        \"dtype\": \"category\",\n        \"num_unique_values\": 52,\n        \"samples\": [\n          \"Home & Garden/Home Improvement\",\n          \"Jobs & Education/Online Courses\",\n          \"Games\"\n        ],\n        \"semantic_type\": \"\",\n        \"description\": \"\"\n      }\n    },\n    {\n      \"column\": \"priority\",\n      \"properties\": {\n        \"dtype\": \"category\",\n        \"num_unique_values\": 5,\n        \"samples\": [\n          \"medium\",\n          \"critical\",\n          \"low\"\n        ],\n        \"semantic_type\": \"\",\n        \"description\": \"\"\n      }\n    },\n    {\n      \"column\": \"language\",\n      \"properties\": {\n        \"dtype\": \"category\",\n        \"num_unique_values\": 2,\n        \"samples\": [\n          \"en\",\n          \"de\"\n        ],\n        \"semantic_type\": \"\",\n        \"description\": \"\"\n      }\n    },\n    {\n      \"column\": \"version\",\n      \"properties\": {\n        \"dtype\": \"number\",\n        \"std\": 165.96293509728815,\n        \"min\": 51.0,\n        \"max\": 400.0,\n        \"num_unique_values\": 3,\n        \"samples\": [\n          51.0,\n          52.0\n        ],\n        \"semantic_type\": \"\",\n        \"description\": \"\"\n      }\n    },\n    {\n      \"column\": \"tag_1\",\n      \"properties\": {\n        \"dtype\": \"category\",\n        \"num_unique_values\": 211,\n        \"samples\": [\n          \"Display\",\n          \"Replacement\"\n        ],\n        \"semantic_type\": \"\",\n        \"description\": \"\"\n      }\n    },\n    {\n      \"column\": \"tag_2\",\n      \"properties\": {\n        \"dtype\": \"category\",\n        \"num_unique_values\": 350,\n        \"samples\": [\n          \"Solution\",\n          \"Night\"\n        ],\n        \"semantic_type\": \"\",\n        \"description\": \"\"\n      }\n    },\n    {\n      \"column\": \"tag_3\",\n      \"properties\": {\n        \"dtype\": \"category\",\n        \"num_unique_values\": 591,\n        \"samples\": [\n          \"DataQuality\",\n          \"Sign\"\n        ],\n        \"semantic_type\": \"\",\n        \"description\": \"\"\n      }\n    },\n    {\n      \"column\": \"tag_4\",\n      \"properties\": {\n        \"dtype\": \"category\",\n        \"num_unique_values\": 831,\n        \"samples\": [\n          \"MicrosoftTeams\",\n          \"Monitors\"\n        ],\n        \"semantic_type\": \"\",\n        \"description\": \"\"\n      }\n    },\n    {\n      \"column\": \"tag_5\",\n      \"properties\": {\n        \"dtype\": \"category\",\n        \"num_unique_values\": 956,\n        \"samples\": [\n          \"Authentication\",\n          \"Display\"\n        ],\n        \"semantic_type\": \"\",\n        \"description\": \"\"\n      }\n    },\n    {\n      \"column\": \"tag_6\",\n      \"properties\": {\n        \"dtype\": \"category\",\n        \"num_unique_values\": 920,\n        \"samples\": [\n          \"Messaging\",\n          \"Problem\"\n        ],\n        \"semantic_type\": \"\",\n        \"description\": \"\"\n      }\n    },\n    {\n      \"column\": \"tag_7\",\n      \"properties\": {\n        \"dtype\": \"category\",\n        \"num_unique_values\": 755,\n        \"samples\": [\n          \"Brand Expansion\",\n          \"OnlinePaymentSystem\"\n        ],\n        \"semantic_type\": \"\",\n        \"description\": \"\"\n      }\n    },\n    {\n      \"column\": \"tag_8\",\n      \"properties\": {\n        \"dtype\": \"category\",\n        \"num_unique_values\": 512,\n        \"samples\": [\n          \"Market Dynamics\",\n          \"Redis\"\n        ],\n        \"semantic_type\": \"\",\n        \"description\": \"\"\n      }\n    }\n  ]\n}"
      }
     },
     "metadata": {},
     "execution_count": 6
    }
   ]
  },
  {
   "cell_type": "code",
   "source": [
    "lengths = df['body'].str.len()\n",
    "print(\"Length stats:\", lengths.describe())\n"
   ],
   "metadata": {
    "colab": {
     "base_uri": "https://localhost:8080/"
    },
    "id": "mN-o1UP-M2mJ",
    "outputId": "912c168c-4972-4c89-9e43-31d84e5b9153"
   },
   "execution_count": null,
   "outputs": [
    {
     "output_type": "stream",
     "name": "stdout",
     "text": [
      "Length stats: count    61763.000000\n",
      "mean       419.192996\n",
      "std        223.850690\n",
      "min          4.000000\n",
      "25%        234.000000\n",
      "50%        415.000000\n",
      "75%        587.000000\n",
      "max       2259.000000\n",
      "Name: body, dtype: float64\n"
     ]
    }
   ]
  },
  {
   "cell_type": "code",
   "source": [
    "df.isna().sum()"
   ],
   "metadata": {
    "colab": {
     "base_uri": "https://localhost:8080/",
     "height": 586
    },
    "id": "pz4GDVORNSgw",
    "outputId": "fe427c75-ac86-4920-efee-6f29ff5cfabf"
   },
   "execution_count": null,
   "outputs": [
    {
     "output_type": "execute_result",
     "data": {
      "text/plain": [
       "subject      5299\n",
       "body            2\n",
       "answer      13189\n",
       "type        13178\n",
       "queue           0\n",
       "priority        0\n",
       "language        0\n",
       "version     33178\n",
       "tag_1       13178\n",
       "tag_2       13237\n",
       "tag_3       13409\n",
       "tag_4       17775\n",
       "tag_5       34129\n",
       "tag_6       48540\n",
       "tag_7       55797\n",
       "tag_8       59293\n",
       "dtype: int64"
      ],
      "text/html": [
       "<div>\n",
       "<style scoped>\n",
       "    .dataframe tbody tr th:only-of-type {\n",
       "        vertical-align: middle;\n",
       "    }\n",
       "\n",
       "    .dataframe tbody tr th {\n",
       "        vertical-align: top;\n",
       "    }\n",
       "\n",
       "    .dataframe thead th {\n",
       "        text-align: right;\n",
       "    }\n",
       "</style>\n",
       "<table border=\"1\" class=\"dataframe\">\n",
       "  <thead>\n",
       "    <tr style=\"text-align: right;\">\n",
       "      <th></th>\n",
       "      <th>0</th>\n",
       "    </tr>\n",
       "  </thead>\n",
       "  <tbody>\n",
       "    <tr>\n",
       "      <th>subject</th>\n",
       "      <td>5299</td>\n",
       "    </tr>\n",
       "    <tr>\n",
       "      <th>body</th>\n",
       "      <td>2</td>\n",
       "    </tr>\n",
       "    <tr>\n",
       "      <th>answer</th>\n",
       "      <td>13189</td>\n",
       "    </tr>\n",
       "    <tr>\n",
       "      <th>type</th>\n",
       "      <td>13178</td>\n",
       "    </tr>\n",
       "    <tr>\n",
       "      <th>queue</th>\n",
       "      <td>0</td>\n",
       "    </tr>\n",
       "    <tr>\n",
       "      <th>priority</th>\n",
       "      <td>0</td>\n",
       "    </tr>\n",
       "    <tr>\n",
       "      <th>language</th>\n",
       "      <td>0</td>\n",
       "    </tr>\n",
       "    <tr>\n",
       "      <th>version</th>\n",
       "      <td>33178</td>\n",
       "    </tr>\n",
       "    <tr>\n",
       "      <th>tag_1</th>\n",
       "      <td>13178</td>\n",
       "    </tr>\n",
       "    <tr>\n",
       "      <th>tag_2</th>\n",
       "      <td>13237</td>\n",
       "    </tr>\n",
       "    <tr>\n",
       "      <th>tag_3</th>\n",
       "      <td>13409</td>\n",
       "    </tr>\n",
       "    <tr>\n",
       "      <th>tag_4</th>\n",
       "      <td>17775</td>\n",
       "    </tr>\n",
       "    <tr>\n",
       "      <th>tag_5</th>\n",
       "      <td>34129</td>\n",
       "    </tr>\n",
       "    <tr>\n",
       "      <th>tag_6</th>\n",
       "      <td>48540</td>\n",
       "    </tr>\n",
       "    <tr>\n",
       "      <th>tag_7</th>\n",
       "      <td>55797</td>\n",
       "    </tr>\n",
       "    <tr>\n",
       "      <th>tag_8</th>\n",
       "      <td>59293</td>\n",
       "    </tr>\n",
       "  </tbody>\n",
       "</table>\n",
       "</div><br><label><b>dtype:</b> int64</label>"
      ]
     },
     "metadata": {},
     "execution_count": 8
    }
   ]
  },
  {
   "cell_type": "code",
   "source": [
    "df.shape"
   ],
   "metadata": {
    "colab": {
     "base_uri": "https://localhost:8080/"
    },
    "id": "Xu93XURsOfSb",
    "outputId": "5aae08d0-63da-4c7f-bcd9-9fd83611714c"
   },
   "execution_count": null,
   "outputs": [
    {
     "output_type": "execute_result",
     "data": {
      "text/plain": [
       "(61765, 16)"
      ]
     },
     "metadata": {},
     "execution_count": 9
    }
   ]
  },
  {
   "cell_type": "code",
   "source": [
    "df = df.dropna(subset=['body'])\n",
    "df = df.reset_index(drop=True)\n"
   ],
   "metadata": {
    "id": "k-erGOeLNmAv"
   },
   "execution_count": null,
   "outputs": []
  },
  {
   "cell_type": "code",
   "source": [
    "df.shape"
   ],
   "metadata": {
    "colab": {
     "base_uri": "https://localhost:8080/"
    },
    "id": "6M3Y0UEZNuQC",
    "outputId": "bde18f10-007d-42f2-cdb0-30f9a10e0288"
   },
   "execution_count": null,
   "outputs": [
    {
     "output_type": "execute_result",
     "data": {
      "text/plain": [
       "(61763, 16)"
      ]
     },
     "metadata": {},
     "execution_count": 11
    }
   ]
  },
  {
   "cell_type": "code",
   "source": [
    "top_queues = df['queue'].value_counts().nlargest(9).index.tolist()\n",
    "df['queue_grouped'] = df['queue'].apply(lambda q: q if q in top_queues else 'Other')\n",
    "print(\"Queues after grouping:\", df['queue_grouped'].unique())\n"
   ],
   "metadata": {
    "colab": {
     "base_uri": "https://localhost:8080/"
    },
    "id": "QA6afjMsNvl-",
    "outputId": "e61b748d-3b0e-46b3-ea9c-975d73ec9007"
   },
   "execution_count": null,
   "outputs": [
    {
     "output_type": "stream",
     "name": "stdout",
     "text": [
      "Queues after grouping: ['Technical Support' 'Returns and Exchanges' 'Billing and Payments'\n",
      " 'Sales and Pre-Sales' 'Service Outages and Maintenance' 'Product Support'\n",
      " 'IT Support' 'Customer Service' 'Human Resources' 'Other']\n"
     ]
    }
   ]
  },
  {
   "cell_type": "code",
   "source": [
    "import re\n",
    "\n",
    "def clean_text(text):\n",
    "    text = text.lower()\n",
    "    text = re.sub(r'[^a-z0-9äöüß ]', ' ', text)  # keep alphanumeric (including German chars)\n",
    "    text = re.sub(r'\\s+', ' ', text).strip()\n",
    "    return text\n",
    "\n",
    "df['clean_body'] = df['body'].apply(clean_text)\n"
   ],
   "metadata": {
    "id": "jO2irIWhOpjv"
   },
   "execution_count": null,
   "outputs": []
  },
  {
   "cell_type": "code",
   "source": [
    "!pip install tensorflow"
   ],
   "metadata": {
    "colab": {
     "base_uri": "https://localhost:8080/"
    },
    "id": "lZbqa1JqO00H",
    "outputId": "e7b715c5-1953-4412-f4e9-a9ac6894a17b"
   },
   "execution_count": null,
   "outputs": [
    {
     "output_type": "stream",
     "name": "stdout",
     "text": [
      "Requirement already satisfied: tensorflow in /usr/local/lib/python3.12/dist-packages (2.19.0)\n",
      "Requirement already satisfied: absl-py>=1.0.0 in /usr/local/lib/python3.12/dist-packages (from tensorflow) (1.4.0)\n",
      "Requirement already satisfied: astunparse>=1.6.0 in /usr/local/lib/python3.12/dist-packages (from tensorflow) (1.6.3)\n",
      "Requirement already satisfied: flatbuffers>=24.3.25 in /usr/local/lib/python3.12/dist-packages (from tensorflow) (25.9.23)\n",
      "Requirement already satisfied: gast!=0.5.0,!=0.5.1,!=0.5.2,>=0.2.1 in /usr/local/lib/python3.12/dist-packages (from tensorflow) (0.6.0)\n",
      "Requirement already satisfied: google-pasta>=0.1.1 in /usr/local/lib/python3.12/dist-packages (from tensorflow) (0.2.0)\n",
      "Requirement already satisfied: libclang>=13.0.0 in /usr/local/lib/python3.12/dist-packages (from tensorflow) (18.1.1)\n",
      "Requirement already satisfied: opt-einsum>=2.3.2 in /usr/local/lib/python3.12/dist-packages (from tensorflow) (3.4.0)\n",
      "Requirement already satisfied: packaging in /usr/local/lib/python3.12/dist-packages (from tensorflow) (25.0)\n",
      "Requirement already satisfied: protobuf!=4.21.0,!=4.21.1,!=4.21.2,!=4.21.3,!=4.21.4,!=4.21.5,<6.0.0dev,>=3.20.3 in /usr/local/lib/python3.12/dist-packages (from tensorflow) (5.29.5)\n",
      "Requirement already satisfied: requests<3,>=2.21.0 in /usr/local/lib/python3.12/dist-packages (from tensorflow) (2.32.4)\n",
      "Requirement already satisfied: setuptools in /usr/local/lib/python3.12/dist-packages (from tensorflow) (75.2.0)\n",
      "Requirement already satisfied: six>=1.12.0 in /usr/local/lib/python3.12/dist-packages (from tensorflow) (1.17.0)\n",
      "Requirement already satisfied: termcolor>=1.1.0 in /usr/local/lib/python3.12/dist-packages (from tensorflow) (3.1.0)\n",
      "Requirement already satisfied: typing-extensions>=3.6.6 in /usr/local/lib/python3.12/dist-packages (from tensorflow) (4.15.0)\n",
      "Requirement already satisfied: wrapt>=1.11.0 in /usr/local/lib/python3.12/dist-packages (from tensorflow) (2.0.0)\n",
      "Requirement already satisfied: grpcio<2.0,>=1.24.3 in /usr/local/lib/python3.12/dist-packages (from tensorflow) (1.75.1)\n",
      "Requirement already satisfied: tensorboard~=2.19.0 in /usr/local/lib/python3.12/dist-packages (from tensorflow) (2.19.0)\n",
      "Requirement already satisfied: keras>=3.5.0 in /usr/local/lib/python3.12/dist-packages (from tensorflow) (3.10.0)\n",
      "Requirement already satisfied: numpy<2.2.0,>=1.26.0 in /usr/local/lib/python3.12/dist-packages (from tensorflow) (2.0.2)\n",
      "Requirement already satisfied: h5py>=3.11.0 in /usr/local/lib/python3.12/dist-packages (from tensorflow) (3.15.1)\n",
      "Requirement already satisfied: ml-dtypes<1.0.0,>=0.5.1 in /usr/local/lib/python3.12/dist-packages (from tensorflow) (0.5.3)\n",
      "Requirement already satisfied: wheel<1.0,>=0.23.0 in /usr/local/lib/python3.12/dist-packages (from astunparse>=1.6.0->tensorflow) (0.45.1)\n",
      "Requirement already satisfied: rich in /usr/local/lib/python3.12/dist-packages (from keras>=3.5.0->tensorflow) (13.9.4)\n",
      "Requirement already satisfied: namex in /usr/local/lib/python3.12/dist-packages (from keras>=3.5.0->tensorflow) (0.1.0)\n",
      "Requirement already satisfied: optree in /usr/local/lib/python3.12/dist-packages (from keras>=3.5.0->tensorflow) (0.17.0)\n",
      "Requirement already satisfied: charset_normalizer<4,>=2 in /usr/local/lib/python3.12/dist-packages (from requests<3,>=2.21.0->tensorflow) (3.4.4)\n",
      "Requirement already satisfied: idna<4,>=2.5 in /usr/local/lib/python3.12/dist-packages (from requests<3,>=2.21.0->tensorflow) (3.11)\n",
      "Requirement already satisfied: urllib3<3,>=1.21.1 in /usr/local/lib/python3.12/dist-packages (from requests<3,>=2.21.0->tensorflow) (2.5.0)\n",
      "Requirement already satisfied: certifi>=2017.4.17 in /usr/local/lib/python3.12/dist-packages (from requests<3,>=2.21.0->tensorflow) (2025.10.5)\n",
      "Requirement already satisfied: markdown>=2.6.8 in /usr/local/lib/python3.12/dist-packages (from tensorboard~=2.19.0->tensorflow) (3.9)\n",
      "Requirement already satisfied: tensorboard-data-server<0.8.0,>=0.7.0 in /usr/local/lib/python3.12/dist-packages (from tensorboard~=2.19.0->tensorflow) (0.7.2)\n",
      "Requirement already satisfied: werkzeug>=1.0.1 in /usr/local/lib/python3.12/dist-packages (from tensorboard~=2.19.0->tensorflow) (3.1.3)\n",
      "Requirement already satisfied: MarkupSafe>=2.1.1 in /usr/local/lib/python3.12/dist-packages (from werkzeug>=1.0.1->tensorboard~=2.19.0->tensorflow) (3.0.3)\n",
      "Requirement already satisfied: markdown-it-py>=2.2.0 in /usr/local/lib/python3.12/dist-packages (from rich->keras>=3.5.0->tensorflow) (4.0.0)\n",
      "Requirement already satisfied: pygments<3.0.0,>=2.13.0 in /usr/local/lib/python3.12/dist-packages (from rich->keras>=3.5.0->tensorflow) (2.19.2)\n",
      "Requirement already satisfied: mdurl~=0.1 in /usr/local/lib/python3.12/dist-packages (from markdown-it-py>=2.2.0->rich->keras>=3.5.0->tensorflow) (0.1.2)\n"
     ]
    }
   ]
  },
  {
   "cell_type": "code",
   "source": [
    "from tensorflow.keras.preprocessing.text import Tokenizer\n",
    "from tensorflow.keras.preprocessing.sequence import pad_sequences\n",
    "MAX_WORDS = 10000\n",
    "tokenizer = Tokenizer(num_words=MAX_WORDS, oov_token='<OOV>')\n",
    "tokenizer.fit_on_texts(df['clean_body'])\n",
    "sequences = tokenizer.texts_to_sequences(df['clean_body'])\n",
    "maxlen = 100\n",
    "X = pad_sequences(sequences, maxlen=maxlen, padding='post')\n"
   ],
   "metadata": {
    "id": "WUBc-PBnOuMG"
   },
   "execution_count": null,
   "outputs": []
  },
  {
   "cell_type": "code",
   "source": [
    "import pickle\n",
    "save_path=\"/content/drive/MyDrive/tokenizer.pkl\"\n",
    "with open(save_path, 'wb') as f:\n",
    "    pickle.dump(tokenizer, f)\n",
    "\n",
    "print(\" Tokenizer saved successfully!\")\n",
    "\n"
   ],
   "metadata": {
    "colab": {
     "base_uri": "https://localhost:8080/"
    },
    "id": "iYPbmQMIWvrW",
    "outputId": "7222f1ff-583b-4731-abae-19147eb30e1f"
   },
   "execution_count": null,
   "outputs": [
    {
     "output_type": "stream",
     "name": "stdout",
     "text": [
      " Tokenizer saved successfully!\n"
     ]
    }
   ]
  },
  {
   "cell_type": "code",
   "source": [
    "from sklearn.preprocessing import LabelEncoder\n",
    "le = LabelEncoder()\n",
    "y = le.fit_transform(df['queue_grouped'])\n",
    "print(\"Classes:\", le.classes_)\n"
   ],
   "metadata": {
    "colab": {
     "base_uri": "https://localhost:8080/"
    },
    "id": "VH69Z9BNOxOU",
    "outputId": "2e36949e-96aa-4751-892e-6d98646e9fbd"
   },
   "execution_count": null,
   "outputs": [
    {
     "output_type": "stream",
     "name": "stdout",
     "text": [
      "Classes: ['Billing and Payments' 'Customer Service' 'Human Resources' 'IT Support'\n",
      " 'Other' 'Product Support' 'Returns and Exchanges' 'Sales and Pre-Sales'\n",
      " 'Service Outages and Maintenance' 'Technical Support']\n"
     ]
    }
   ]
  },
  {
   "cell_type": "code",
   "source": [
    "save_path=\"/content/drive/MyDrive/label_encoder.pkl\"\n",
    "with open(save_path, 'wb') as f:\n",
    "    pickle.dump(le, f)\n",
    "\n",
    "print(\" Labelencoder saved successfully!\")"
   ],
   "metadata": {
    "colab": {
     "base_uri": "https://localhost:8080/"
    },
    "id": "mgtIC02cSej6",
    "outputId": "78d8b5b9-4848-4f64-f781-b15a3b3e260c"
   },
   "execution_count": null,
   "outputs": [
    {
     "output_type": "stream",
     "name": "stdout",
     "text": [
      " Labelencoder saved successfully!\n"
     ]
    }
   ]
  },
  {
   "cell_type": "code",
   "source": [
    "from keras.models import Sequential\n",
    "from keras.layers import Embedding, LSTM, Dense, Dropout\n",
    "\n",
    "vocab_size = min(MAX_WORDS, len(tokenizer.word_index)) + 1\n",
    "embedding_dim = 64\n",
    "\n",
    "model = Sequential([\n",
    "    Embedding(input_dim=vocab_size, output_dim=embedding_dim, input_length=maxlen),\n",
    "    LSTM(64),\n",
    "    Dropout(0.2),\n",
    "    Dense(len(le.classes_), activation='softmax')\n",
    "])\n",
    "\n",
    "model.compile(optimizer='adam', loss='sparse_categorical_crossentropy', metrics=['accuracy'])\n",
    "model.summary()\n"
   ],
   "metadata": {
    "colab": {
     "base_uri": "https://localhost:8080/",
     "height": 307
    },
    "id": "x7cuHNKLPXk6",
    "outputId": "ff1bc9de-33b8-4e12-e70c-e7d99f7990a1"
   },
   "execution_count": null,
   "outputs": [
    {
     "output_type": "stream",
     "name": "stderr",
     "text": [
      "/usr/local/lib/python3.12/dist-packages/keras/src/layers/core/embedding.py:97: UserWarning: Argument `input_length` is deprecated. Just remove it.\n",
      "  warnings.warn(\n"
     ]
    },
    {
     "output_type": "display_data",
     "data": {
      "text/plain": [
       "\u001b[1mModel: \"sequential\"\u001b[0m\n"
      ],
      "text/html": [
       "<pre style=\"white-space:pre;overflow-x:auto;line-height:normal;font-family:Menlo,'DejaVu Sans Mono',consolas,'Courier New',monospace\"><span style=\"font-weight: bold\">Model: \"sequential\"</span>\n",
       "</pre>\n"
      ]
     },
     "metadata": {}
    },
    {
     "output_type": "display_data",
     "data": {
      "text/plain": [
       "┏━━━━━━━━━━━━━━━━━━━━━━━━━━━━━━━━━┳━━━━━━━━━━━━━━━━━━━━━━━━┳━━━━━━━━━━━━━━━┓\n",
       "┃\u001b[1m \u001b[0m\u001b[1mLayer (type)                   \u001b[0m\u001b[1m \u001b[0m┃\u001b[1m \u001b[0m\u001b[1mOutput Shape          \u001b[0m\u001b[1m \u001b[0m┃\u001b[1m \u001b[0m\u001b[1m      Param #\u001b[0m\u001b[1m \u001b[0m┃\n",
       "┡━━━━━━━━━━━━━━━━━━━━━━━━━━━━━━━━━╇━━━━━━━━━━━━━━━━━━━━━━━━╇━━━━━━━━━━━━━━━┩\n",
       "│ embedding (\u001b[38;5;33mEmbedding\u001b[0m)           │ ?                      │   \u001b[38;5;34m0\u001b[0m (unbuilt) │\n",
       "├─────────────────────────────────┼────────────────────────┼───────────────┤\n",
       "│ lstm (\u001b[38;5;33mLSTM\u001b[0m)                     │ ?                      │   \u001b[38;5;34m0\u001b[0m (unbuilt) │\n",
       "├─────────────────────────────────┼────────────────────────┼───────────────┤\n",
       "│ dropout (\u001b[38;5;33mDropout\u001b[0m)               │ ?                      │             \u001b[38;5;34m0\u001b[0m │\n",
       "├─────────────────────────────────┼────────────────────────┼───────────────┤\n",
       "│ dense (\u001b[38;5;33mDense\u001b[0m)                   │ ?                      │   \u001b[38;5;34m0\u001b[0m (unbuilt) │\n",
       "└─────────────────────────────────┴────────────────────────┴───────────────┘\n"
      ],
      "text/html": [
       "<pre style=\"white-space:pre;overflow-x:auto;line-height:normal;font-family:Menlo,'DejaVu Sans Mono',consolas,'Courier New',monospace\">┏━━━━━━━━━━━━━━━━━━━━━━━━━━━━━━━━━┳━━━━━━━━━━━━━━━━━━━━━━━━┳━━━━━━━━━━━━━━━┓\n",
       "┃<span style=\"font-weight: bold\"> Layer (type)                    </span>┃<span style=\"font-weight: bold\"> Output Shape           </span>┃<span style=\"font-weight: bold\">       Param # </span>┃\n",
       "┡━━━━━━━━━━━━━━━━━━━━━━━━━━━━━━━━━╇━━━━━━━━━━━━━━━━━━━━━━━━╇━━━━━━━━━━━━━━━┩\n",
       "│ embedding (<span style=\"color: #0087ff; text-decoration-color: #0087ff\">Embedding</span>)           │ ?                      │   <span style=\"color: #00af00; text-decoration-color: #00af00\">0</span> (unbuilt) │\n",
       "├─────────────────────────────────┼────────────────────────┼───────────────┤\n",
       "│ lstm (<span style=\"color: #0087ff; text-decoration-color: #0087ff\">LSTM</span>)                     │ ?                      │   <span style=\"color: #00af00; text-decoration-color: #00af00\">0</span> (unbuilt) │\n",
       "├─────────────────────────────────┼────────────────────────┼───────────────┤\n",
       "│ dropout (<span style=\"color: #0087ff; text-decoration-color: #0087ff\">Dropout</span>)               │ ?                      │             <span style=\"color: #00af00; text-decoration-color: #00af00\">0</span> │\n",
       "├─────────────────────────────────┼────────────────────────┼───────────────┤\n",
       "│ dense (<span style=\"color: #0087ff; text-decoration-color: #0087ff\">Dense</span>)                   │ ?                      │   <span style=\"color: #00af00; text-decoration-color: #00af00\">0</span> (unbuilt) │\n",
       "└─────────────────────────────────┴────────────────────────┴───────────────┘\n",
       "</pre>\n"
      ]
     },
     "metadata": {}
    },
    {
     "output_type": "display_data",
     "data": {
      "text/plain": [
       "\u001b[1m Total params: \u001b[0m\u001b[38;5;34m0\u001b[0m (0.00 B)\n"
      ],
      "text/html": [
       "<pre style=\"white-space:pre;overflow-x:auto;line-height:normal;font-family:Menlo,'DejaVu Sans Mono',consolas,'Courier New',monospace\"><span style=\"font-weight: bold\"> Total params: </span><span style=\"color: #00af00; text-decoration-color: #00af00\">0</span> (0.00 B)\n",
       "</pre>\n"
      ]
     },
     "metadata": {}
    },
    {
     "output_type": "display_data",
     "data": {
      "text/plain": [
       "\u001b[1m Trainable params: \u001b[0m\u001b[38;5;34m0\u001b[0m (0.00 B)\n"
      ],
      "text/html": [
       "<pre style=\"white-space:pre;overflow-x:auto;line-height:normal;font-family:Menlo,'DejaVu Sans Mono',consolas,'Courier New',monospace\"><span style=\"font-weight: bold\"> Trainable params: </span><span style=\"color: #00af00; text-decoration-color: #00af00\">0</span> (0.00 B)\n",
       "</pre>\n"
      ]
     },
     "metadata": {}
    },
    {
     "output_type": "display_data",
     "data": {
      "text/plain": [
       "\u001b[1m Non-trainable params: \u001b[0m\u001b[38;5;34m0\u001b[0m (0.00 B)\n"
      ],
      "text/html": [
       "<pre style=\"white-space:pre;overflow-x:auto;line-height:normal;font-family:Menlo,'DejaVu Sans Mono',consolas,'Courier New',monospace\"><span style=\"font-weight: bold\"> Non-trainable params: </span><span style=\"color: #00af00; text-decoration-color: #00af00\">0</span> (0.00 B)\n",
       "</pre>\n"
      ]
     },
     "metadata": {}
    }
   ]
  },
  {
   "cell_type": "code",
   "source": [
    "from sklearn.model_selection import train_test_split\n",
    "\n",
    "X_train, X_test, y_train, y_test = train_test_split(\n",
    "    X, y, test_size=0.2, random_state=42, stratify=y)\n"
   ],
   "metadata": {
    "id": "zGC9ivnHPef5"
   },
   "execution_count": null,
   "outputs": []
  },
  {
   "cell_type": "code",
   "source": [
    "history = model.fit(X_train, y_train, epochs=5, batch_size=32,\n",
    "                    validation_split=0.1, verbose=1)"
   ],
   "metadata": {
    "id": "N4DSSwfVPjAY"
   },
   "execution_count": null,
   "outputs": []
  },
  {
   "cell_type": "code",
   "source": [
    "from tensorflow.keras.callbacks import EarlyStopping, ModelCheckpoint\n",
    "\n",
    "model_path = '/content/drive/MyDrive/best_model.h5'\n",
    "\n",
    "\n",
    "early_stop = EarlyStopping(\n",
    "    monitor='val_loss',      # metric to watch\n",
    "    patience=4,              # stop after 4 epochs with no improvement\n",
    "    restore_best_weights=True  # restore best model after stopping\n",
    ")\n",
    "\n",
    "\n",
    "\n",
    "checkpoint = ModelCheckpoint(\n",
    "    filepath=model_path,     # save location\n",
    "    monitor='val_loss',      # metric to monitor\n",
    "    save_best_only=True,     # save only the best model\n",
    "    verbose=1\n",
    ")"
   ],
   "metadata": {
    "id": "dVegZzSwT81Z"
   },
   "execution_count": null,
   "outputs": []
  },
  {
   "cell_type": "code",
   "source": [
    "history = model.fit(\n",
    "    X_train, y_train,\n",
    "    epochs=50,\n",
    "    batch_size=32,\n",
    "    validation_split=0.1,\n",
    "    verbose=1,\n",
    "    callbacks=[early_stop, checkpoint]\n",
    ")"
   ],
   "metadata": {
    "colab": {
     "base_uri": "https://localhost:8080/"
    },
    "id": "smgNFpxiUGi5",
    "outputId": "c85a7b16-4d06-4df4-8a30-3cc55658fa88"
   },
   "execution_count": null,
   "outputs": [
    {
     "metadata": {
      "tags": null
     },
     "name": "stdout",
     "output_type": "stream",
     "text": [
      "Epoch 1/50\n",
      "\u001b[1m1389/1390\u001b[0m \u001b[32m━━━━━━━━━━━━━━━━━━━\u001b[0m\u001b[37m━\u001b[0m \u001b[1m0s\u001b[0m 71ms/step - accuracy: 0.3435 - loss: 1.8775\n",
      "Epoch 1: val_loss improved from inf to 1.56372, saving model to /content/drive/MyDrive/best_model.h5\n"
     ]
    },
    {
     "metadata": {
      "tags": null
     },
     "name": "stderr",
     "output_type": "stream",
     "text": [
      "WARNING:absl:You are saving your model as an HDF5 file via `model.save()` or `keras.saving.save_model(model)`. This file format is considered legacy. We recommend using instead the native Keras format, e.g. `model.save('my_model.keras')` or `keras.saving.save_model(model, 'my_model.keras')`. \n"
     ]
    },
    {
     "metadata": {
      "tags": null
     },
     "name": "stdout",
     "output_type": "stream",
     "text": [
      "\u001b[1m1390/1390\u001b[0m \u001b[32m━━━━━━━━━━━━━━━━━━━━\u001b[0m\u001b[37m\u001b[0m \u001b[1m105s\u001b[0m 74ms/step - accuracy: 0.3436 - loss: 1.8773 - val_accuracy: 0.4276 - val_loss: 1.5637\n",
      "Epoch 2/50\n",
      "\u001b[1m1389/1390\u001b[0m \u001b[32m━━━━━━━━━━━━━━━━━━━\u001b[0m\u001b[37m━\u001b[0m \u001b[1m0s\u001b[0m 62ms/step - accuracy: 0.4459 - loss: 1.5486\n",
      "Epoch 2: val_loss improved from 1.56372 to 1.55437, saving model to /content/drive/MyDrive/best_model.h5\n"
     ]
    },
    {
     "metadata": {
      "tags": null
     },
     "name": "stderr",
     "output_type": "stream",
     "text": [
      "WARNING:absl:You are saving your model as an HDF5 file via `model.save()` or `keras.saving.save_model(model)`. This file format is considered legacy. We recommend using instead the native Keras format, e.g. `model.save('my_model.keras')` or `keras.saving.save_model(model, 'my_model.keras')`. \n"
     ]
    },
    {
     "metadata": {
      "tags": null
     },
     "name": "stdout",
     "output_type": "stream",
     "text": [
      "\u001b[1m1390/1390\u001b[0m \u001b[32m━━━━━━━━━━━━━━━━━━━━\u001b[0m\u001b[37m\u001b[0m \u001b[1m131s\u001b[0m 66ms/step - accuracy: 0.4459 - loss: 1.5487 - val_accuracy: 0.4295 - val_loss: 1.5544\n",
      "Epoch 3/50\n",
      "\u001b[1m1389/1390\u001b[0m \u001b[32m━━━━━━━━━━━━━━━━━━━\u001b[0m\u001b[37m━\u001b[0m \u001b[1m0s\u001b[0m 62ms/step - accuracy: 0.4459 - loss: 1.5513\n",
      "Epoch 3: val_loss improved from 1.55437 to 1.54552, saving model to /content/drive/MyDrive/best_model.h5\n"
     ]
    },
    {
     "metadata": {
      "tags": null
     },
     "name": "stderr",
     "output_type": "stream",
     "text": [
      "WARNING:absl:You are saving your model as an HDF5 file via `model.save()` or `keras.saving.save_model(model)`. This file format is considered legacy. We recommend using instead the native Keras format, e.g. `model.save('my_model.keras')` or `keras.saving.save_model(model, 'my_model.keras')`. \n"
     ]
    },
    {
     "output_type": "stream",
     "name": "stdout",
     "text": [
      "\u001b[1m1390/1390\u001b[0m \u001b[32m━━━━━━━━━━━━━━━━━━━━\u001b[0m\u001b[37m\u001b[0m \u001b[1m140s\u001b[0m 65ms/step - accuracy: 0.4459 - loss: 1.5513 - val_accuracy: 0.4303 - val_loss: 1.5455\n",
      "Epoch 4/50\n",
      "\u001b[1m1390/1390\u001b[0m \u001b[32m━━━━━━━━━━━━━━━━━━━━\u001b[0m\u001b[37m\u001b[0m \u001b[1m0s\u001b[0m 65ms/step - accuracy: 0.4511 - loss: 1.5340\n",
      "Epoch 4: val_loss did not improve from 1.54552\n",
      "\u001b[1m1390/1390\u001b[0m \u001b[32m━━━━━━━━━━━━━━━━━━━━\u001b[0m\u001b[37m\u001b[0m \u001b[1m145s\u001b[0m 67ms/step - accuracy: 0.4511 - loss: 1.5340 - val_accuracy: 0.4250 - val_loss: 1.5602\n",
      "Epoch 5/50\n",
      "\u001b[1m1390/1390\u001b[0m \u001b[32m━━━━━━━━━━━━━━━━━━━━\u001b[0m\u001b[37m\u001b[0m \u001b[1m0s\u001b[0m 64ms/step - accuracy: 0.4483 - loss: 1.5461\n",
      "Epoch 5: val_loss improved from 1.54552 to 1.48004, saving model to /content/drive/MyDrive/best_model.h5\n"
     ]
    },
    {
     "output_type": "stream",
     "name": "stderr",
     "text": [
      "WARNING:absl:You are saving your model as an HDF5 file via `model.save()` or `keras.saving.save_model(model)`. This file format is considered legacy. We recommend using instead the native Keras format, e.g. `model.save('my_model.keras')` or `keras.saving.save_model(model, 'my_model.keras')`. \n"
     ]
    },
    {
     "output_type": "stream",
     "name": "stdout",
     "text": [
      "\b\b\b\b\b\b\b\b\b\b\b\b\b\b\b\b\b\b\b\b\b\b\b\b\b\b\b\b\b\b\b\b\b\b\b\b\b\b\b\b\b\b\b\b\b\b\b\b\b\b\b\b\b\b\b\b\b\b\b\b\b\b\b\b\b\b\b\b\b\b\b\b\b\b\b\b\b\r\u001b[1m1390/1390\u001b[0m \u001b[32m━━━━━━━━━━━━━━━━━━━━\u001b[0m\u001b[37m\u001b[0m \u001b[1m92s\u001b[0m 66ms/step - accuracy: 0.4483 - loss: 1.5461 - val_accuracy: 0.4653 - val_loss: 1.4800\n",
      "Epoch 6/50\n",
      "\u001b[1m1390/1390\u001b[0m \u001b[32m━━━━━━━━━━━━━━━━━━━━\u001b[0m\u001b[37m\u001b[0m \u001b[1m0s\u001b[0m 63ms/step - accuracy: 0.4846 - loss: 1.4448\n",
      "Epoch 6: val_loss improved from 1.48004 to 1.36797, saving model to /content/drive/MyDrive/best_model.h5\n"
     ]
    },
    {
     "output_type": "stream",
     "name": "stderr",
     "text": [
      "WARNING:absl:You are saving your model as an HDF5 file via `model.save()` or `keras.saving.save_model(model)`. This file format is considered legacy. We recommend using instead the native Keras format, e.g. `model.save('my_model.keras')` or `keras.saving.save_model(model, 'my_model.keras')`. \n"
     ]
    },
    {
     "output_type": "stream",
     "name": "stdout",
     "text": [
      "\b\b\b\b\b\b\b\b\b\b\b\b\b\b\b\b\b\b\b\b\b\b\b\b\b\b\b\b\b\b\b\b\b\b\b\b\b\b\b\b\b\b\b\b\b\b\b\b\b\b\b\b\b\b\b\b\b\b\b\b\b\b\b\b\b\b\b\b\b\b\b\b\b\b\b\b\b\r\u001b[1m1390/1390\u001b[0m \u001b[32m━━━━━━━━━━━━━━━━━━━━\u001b[0m\u001b[37m\u001b[0m \u001b[1m142s\u001b[0m 66ms/step - accuracy: 0.4846 - loss: 1.4448 - val_accuracy: 0.4975 - val_loss: 1.3680\n",
      "Epoch 7/50\n",
      "\u001b[1m1389/1390\u001b[0m \u001b[32m━━━━━━━━━━━━━━━━━━━\u001b[0m\u001b[37m━\u001b[0m \u001b[1m0s\u001b[0m 66ms/step - accuracy: 0.5280 - loss: 1.3256\n",
      "Epoch 7: val_loss improved from 1.36797 to 1.33904, saving model to /content/drive/MyDrive/best_model.h5\n"
     ]
    },
    {
     "output_type": "stream",
     "name": "stderr",
     "text": [
      "WARNING:absl:You are saving your model as an HDF5 file via `model.save()` or `keras.saving.save_model(model)`. This file format is considered legacy. We recommend using instead the native Keras format, e.g. `model.save('my_model.keras')` or `keras.saving.save_model(model, 'my_model.keras')`. \n"
     ]
    },
    {
     "output_type": "stream",
     "name": "stdout",
     "text": [
      "\b\b\b\b\b\b\b\b\b\b\b\b\b\b\b\b\b\b\b\b\b\b\b\b\b\b\b\b\b\b\b\b\b\b\b\b\b\b\b\b\b\b\b\b\b\b\b\b\b\b\b\b\b\b\b\b\b\b\b\b\b\b\b\b\b\b\b\b\b\b\b\b\b\b\b\b\b\r\u001b[1m1390/1390\u001b[0m \u001b[32m━━━━━━━━━━━━━━━━━━━━\u001b[0m\u001b[37m\u001b[0m \u001b[1m95s\u001b[0m 68ms/step - accuracy: 0.5280 - loss: 1.3255 - val_accuracy: 0.5131 - val_loss: 1.3390\n",
      "Epoch 8/50\n",
      "\u001b[1m1389/1390\u001b[0m \u001b[32m━━━━━━━━━━━━━━━━━━━\u001b[0m\u001b[37m━\u001b[0m \u001b[1m0s\u001b[0m 64ms/step - accuracy: 0.5598 - loss: 1.2394\n",
      "Epoch 8: val_loss improved from 1.33904 to 1.29611, saving model to /content/drive/MyDrive/best_model.h5\n"
     ]
    },
    {
     "output_type": "stream",
     "name": "stderr",
     "text": [
      "WARNING:absl:You are saving your model as an HDF5 file via `model.save()` or `keras.saving.save_model(model)`. This file format is considered legacy. We recommend using instead the native Keras format, e.g. `model.save('my_model.keras')` or `keras.saving.save_model(model, 'my_model.keras')`. \n"
     ]
    },
    {
     "output_type": "stream",
     "name": "stdout",
     "text": [
      "\b\b\b\b\b\b\b\b\b\b\b\b\b\b\b\b\b\b\b\b\b\b\b\b\b\b\b\b\b\b\b\b\b\b\b\b\b\b\b\b\b\b\b\b\b\b\b\b\b\b\b\b\b\b\b\b\b\b\b\b\b\b\b\b\b\b\b\b\b\b\b\b\b\b\b\b\b\r\u001b[1m1390/1390\u001b[0m \u001b[32m━━━━━━━━━━━━━━━━━━━━\u001b[0m\u001b[37m\u001b[0m \u001b[1m92s\u001b[0m 66ms/step - accuracy: 0.5598 - loss: 1.2394 - val_accuracy: 0.5301 - val_loss: 1.2961\n",
      "Epoch 9/50\n",
      "\u001b[1m1389/1390\u001b[0m \u001b[32m━━━━━━━━━━━━━━━━━━━\u001b[0m\u001b[37m━\u001b[0m \u001b[1m0s\u001b[0m 66ms/step - accuracy: 0.5914 - loss: 1.1539\n",
      "Epoch 9: val_loss improved from 1.29611 to 1.28450, saving model to /content/drive/MyDrive/best_model.h5\n"
     ]
    },
    {
     "output_type": "stream",
     "name": "stderr",
     "text": [
      "WARNING:absl:You are saving your model as an HDF5 file via `model.save()` or `keras.saving.save_model(model)`. This file format is considered legacy. We recommend using instead the native Keras format, e.g. `model.save('my_model.keras')` or `keras.saving.save_model(model, 'my_model.keras')`. \n"
     ]
    },
    {
     "output_type": "stream",
     "name": "stdout",
     "text": [
      "\b\b\b\b\b\b\b\b\b\b\b\b\b\b\b\b\b\b\b\b\b\b\b\b\b\b\b\b\b\b\b\b\b\b\b\b\b\b\b\b\b\b\b\b\b\b\b\b\b\b\b\b\b\b\b\b\b\b\b\b\b\b\b\b\b\b\b\b\b\b\b\b\b\b\b\b\b\r\u001b[1m1390/1390\u001b[0m \u001b[32m━━━━━━━━━━━━━━━━━━━━\u001b[0m\u001b[37m\u001b[0m \u001b[1m94s\u001b[0m 68ms/step - accuracy: 0.5914 - loss: 1.1539 - val_accuracy: 0.5485 - val_loss: 1.2845\n",
      "Epoch 10/50\n",
      "\u001b[1m1390/1390\u001b[0m \u001b[32m━━━━━━━━━━━━━━━━━━━━\u001b[0m\u001b[37m\u001b[0m \u001b[1m0s\u001b[0m 65ms/step - accuracy: 0.6266 - loss: 1.0693\n",
      "Epoch 10: val_loss improved from 1.28450 to 1.25127, saving model to /content/drive/MyDrive/best_model.h5\n"
     ]
    },
    {
     "output_type": "stream",
     "name": "stderr",
     "text": [
      "WARNING:absl:You are saving your model as an HDF5 file via `model.save()` or `keras.saving.save_model(model)`. This file format is considered legacy. We recommend using instead the native Keras format, e.g. `model.save('my_model.keras')` or `keras.saving.save_model(model, 'my_model.keras')`. \n"
     ]
    },
    {
     "output_type": "stream",
     "name": "stdout",
     "text": [
      "\b\b\b\b\b\b\b\b\b\b\b\b\b\b\b\b\b\b\b\b\b\b\b\b\b\b\b\b\b\b\b\b\b\b\b\b\b\b\b\b\b\b\b\b\b\b\b\b\b\b\b\b\b\b\b\b\b\b\b\b\b\b\b\b\b\b\b\b\b\b\b\b\b\b\b\b\b\r\u001b[1m1390/1390\u001b[0m \u001b[32m━━━━━━━━━━━━━━━━━━━━\u001b[0m\u001b[37m\u001b[0m \u001b[1m93s\u001b[0m 67ms/step - accuracy: 0.6266 - loss: 1.0693 - val_accuracy: 0.5616 - val_loss: 1.2513\n",
      "Epoch 11/50\n",
      "\u001b[1m1389/1390\u001b[0m \u001b[32m━━━━━━━━━━━━━━━━━━━\u001b[0m\u001b[37m━\u001b[0m \u001b[1m0s\u001b[0m 66ms/step - accuracy: 0.6537 - loss: 0.9902\n",
      "Epoch 11: val_loss did not improve from 1.25127\n",
      "\u001b[1m1390/1390\u001b[0m \u001b[32m━━━━━━━━━━━━━━━━━━━━\u001b[0m\u001b[37m\u001b[0m \u001b[1m95s\u001b[0m 68ms/step - accuracy: 0.6537 - loss: 0.9902 - val_accuracy: 0.5756 - val_loss: 1.2579\n",
      "Epoch 12/50\n",
      "\u001b[1m1389/1390\u001b[0m \u001b[32m━━━━━━━━━━━━━━━━━━━\u001b[0m\u001b[37m━\u001b[0m \u001b[1m0s\u001b[0m 65ms/step - accuracy: 0.6846 - loss: 0.8952\n",
      "Epoch 12: val_loss did not improve from 1.25127\n",
      "\u001b[1m1390/1390\u001b[0m \u001b[32m━━━━━━━━━━━━━━━━━━━━\u001b[0m\u001b[37m\u001b[0m \u001b[1m139s\u001b[0m 66ms/step - accuracy: 0.6846 - loss: 0.8952 - val_accuracy: 0.5778 - val_loss: 1.2870\n",
      "Epoch 13/50\n",
      "\u001b[1m1390/1390\u001b[0m \u001b[32m━━━━━━━━━━━━━━━━━━━━\u001b[0m\u001b[37m\u001b[0m \u001b[1m0s\u001b[0m 66ms/step - accuracy: 0.7049 - loss: 0.8296\n",
      "Epoch 13: val_loss did not improve from 1.25127\n",
      "\u001b[1m1390/1390\u001b[0m \u001b[32m━━━━━━━━━━━━━━━━━━━━\u001b[0m\u001b[37m\u001b[0m \u001b[1m95s\u001b[0m 68ms/step - accuracy: 0.7049 - loss: 0.8296 - val_accuracy: 0.5918 - val_loss: 1.2846\n",
      "Epoch 14/50\n",
      "\u001b[1m1390/1390\u001b[0m \u001b[32m━━━━━━━━━━━━━━━━━━━━\u001b[0m\u001b[37m\u001b[0m \u001b[1m0s\u001b[0m 64ms/step - accuracy: 0.7417 - loss: 0.7503\n",
      "Epoch 14: val_loss did not improve from 1.25127\n",
      "\u001b[1m1390/1390\u001b[0m \u001b[32m━━━━━━━━━━━━━━━━━━━━\u001b[0m\u001b[37m\u001b[0m \u001b[1m93s\u001b[0m 67ms/step - accuracy: 0.7416 - loss: 0.7504 - val_accuracy: 0.5995 - val_loss: 1.2698\n"
     ]
    }
   ]
  },
  {
   "cell_type": "code",
   "source": [
    "from sklearn.metrics import classification_report, confusion_matrix\n",
    "\n",
    "y_pred = model.predict(X_test).argmax(axis=1)\n",
    "print(classification_report(y_test, y_pred, target_names=le.classes_))\n"
   ],
   "metadata": {
    "colab": {
     "base_uri": "https://localhost:8080/"
    },
    "id": "ay--xDaBWSXd",
    "outputId": "aa1b5489-e7c9-495c-e8cd-ac6a51773f13"
   },
   "execution_count": null,
   "outputs": [
    {
     "output_type": "stream",
     "name": "stdout",
     "text": [
      "\u001b[1m387/387\u001b[0m \u001b[32m━━━━━━━━━━━━━━━━━━━━\u001b[0m\u001b[37m\u001b[0m \u001b[1m16s\u001b[0m 40ms/step\n",
      "                                 precision    recall  f1-score   support\n",
      "\n",
      "           Billing and Payments       0.80      0.74      0.77       975\n",
      "               Customer Service       0.31      0.49      0.38      1484\n",
      "                Human Resources       0.00      0.00      0.00       183\n",
      "                     IT Support       0.38      0.00      0.01      1145\n",
      "                          Other       0.99      0.95      0.97      2769\n",
      "                Product Support       0.39      0.33      0.36      1792\n",
      "          Returns and Exchanges       0.46      0.01      0.02       488\n",
      "            Sales and Pre-Sales       0.53      0.06      0.10       298\n",
      "Service Outages and Maintenance       0.81      0.35      0.48       382\n",
      "              Technical Support       0.46      0.77      0.58      2837\n",
      "\n",
      "                       accuracy                           0.57     12353\n",
      "                      macro avg       0.51      0.37      0.37     12353\n",
      "                   weighted avg       0.58      0.57      0.53     12353\n",
      "\n"
     ]
    },
    {
     "output_type": "stream",
     "name": "stderr",
     "text": [
      "/usr/local/lib/python3.12/dist-packages/sklearn/metrics/_classification.py:1565: UndefinedMetricWarning: Precision is ill-defined and being set to 0.0 in labels with no predicted samples. Use `zero_division` parameter to control this behavior.\n",
      "  _warn_prf(average, modifier, f\"{metric.capitalize()} is\", len(result))\n",
      "/usr/local/lib/python3.12/dist-packages/sklearn/metrics/_classification.py:1565: UndefinedMetricWarning: Precision is ill-defined and being set to 0.0 in labels with no predicted samples. Use `zero_division` parameter to control this behavior.\n",
      "  _warn_prf(average, modifier, f\"{metric.capitalize()} is\", len(result))\n",
      "/usr/local/lib/python3.12/dist-packages/sklearn/metrics/_classification.py:1565: UndefinedMetricWarning: Precision is ill-defined and being set to 0.0 in labels with no predicted samples. Use `zero_division` parameter to control this behavior.\n",
      "  _warn_prf(average, modifier, f\"{metric.capitalize()} is\", len(result))\n"
     ]
    }
   ]
  },
  {
   "cell_type": "code",
   "source": [
    "import matplotlib.pyplot as plt\n",
    "import seaborn as sns\n",
    "from sklearn.metrics import confusion_matrix\n",
    "\n",
    "# Compute confusion matrix\n",
    "cm = confusion_matrix(y_test, y_pred)\n",
    "\n",
    "# Plot the heatmap\n",
    "plt.figure(figsize=(10, 8))\n",
    "sns.heatmap(cm, annot=True, fmt='d', cmap='Blues',\n",
    "            xticklabels=le.classes_,\n",
    "            yticklabels=le.classes_)\n",
    "\n",
    "plt.title('Confusion Matrix Heatmap')\n",
    "plt.xlabel('Predicted Labels')\n",
    "plt.ylabel('True Labels')\n",
    "plt.xticks(rotation=45, ha='right')\n",
    "plt.yticks(rotation=0)\n",
    "plt.tight_layout()\n",
    "plt.show()\n"
   ],
   "metadata": {
    "colab": {
     "base_uri": "https://localhost:8080/",
     "height": 807
    },
    "id": "o-3_IAr5apsB",
    "outputId": "73ca0356-79c1-43c7-f642-3ccd42ac57ac"
   },
   "execution_count": null,
   "outputs": [
    {
     "output_type": "display_data",
     "data": {
      "text/plain": [
       "<Figure size 1000x800 with 2 Axes>"
      ],
      "image/png": "[encoded data removed]"
     },
     "metadata": {}
    }
   ]
  },
  {
   "cell_type": "code",
   "source": [
    "import pickle\n",
    "import tensorflow as tf\n",
    "import google.generativeai as genai\n",
    "from google.colab import userdata\n",
    "import re\n",
    "from tensorflow.keras.preprocessing.sequence import pad_sequences\n",
    "\n",
    "\n",
    "def clean_text(text):\n",
    "    text = text.lower()\n",
    "    text = re.sub(r'[^a-z0-9äöüß ]', ' ', text)\n",
    "    text = re.sub(r'\\s+', ' ', text).strip()\n",
    "    return text\n",
    "\n",
    "maxlen = 100\n",
    "\n",
    "\n",
    "tokenizer_path = \"/content/drive/MyDrive/tokenizer.pkl\"\n",
    "with open(tokenizer_path, 'rb') as f:\n",
    "    tokenizer = pickle.load(f)\n",
    "\n",
    "label_encoder_path = \"/content/drive/MyDrive/label_encoder.pkl\"\n",
    "with open(label_encoder_path, 'rb') as f:\n",
    "    label_encoder = pickle.load(f)\n",
    "\n",
    "model_path = '/content/drive/MyDrive/best_model.h5'\n",
    "model = tf.keras.models.load_model(model_path)\n",
    "\n",
    "google_api_key = userdata.get('GEMINI_API_KEY')\n",
    "genai.configure(api_key=google_api_key)\n",
    "print(\" Gemini API key configured via Colab Secrets.\")"
   ],
   "metadata": {
    "colab": {
     "base_uri": "https://localhost:8080/"
    },
    "id": "DVHTH-CXMugh",
    "outputId": "c6ecf1e3-d873-404b-fa4f-ea21fb3170d0"
   },
   "execution_count": 13,
   "outputs": [
    {
     "output_type": "stream",
     "name": "stderr",
     "text": [
      "WARNING:absl:Compiled the loaded model, but the compiled metrics have yet to be built. `model.compile_metrics` will be empty until you train or evaluate the model.\n"
     ]
    },
    {
     "output_type": "stream",
     "name": "stdout",
     "text": [
      " Gemini API key configured via Colab Secrets.\n"
     ]
    }
   ]
  },
  {
   "cell_type": "code",
   "source": [
    "\n",
    "print(\" Available Gemini models:\")\n",
    "for m in genai.list_models():\n",
    "    if 'generateContent' in m.supported_generation_methods:\n",
    "        print(\" -\", m.name)\n",
    "\n",
    "def gemini_generate_reply(ticket_text, predicted_queue):\n",
    "    prompt = (\n",
    "        f\"You are a support assistant for {predicted_queue}.\\n\"\n",
    "        f\"Write a professional reply to this customer message:\\n\\n{ticket_text}\\n\\n\"\n",
    "        f\"Your tone should be helpful and empathetic.\"\n",
    "        f\"Replying person name Omprakash from XYZ LLC\"\n",
    "    )\n",
    "    model = genai.GenerativeModel(\"gemini-pro-latest\")\n",
    "    response = model.generate_content(prompt)\n",
    "    return response.text"
   ],
   "metadata": {
    "colab": {
     "base_uri": "https://localhost:8080/",
     "height": 746
    },
    "id": "Vc8anX5hM5_I",
    "outputId": "e5ac017b-7fea-457a-a7f1-04e153f99dcc"
   },
   "execution_count": 14,
   "outputs": [
    {
     "output_type": "stream",
     "name": "stdout",
     "text": [
      " Available Gemini models:\n",
      " - models/gemini-2.5-pro-preview-03-25\n",
      " - models/gemini-2.5-flash-preview-05-20\n",
      " - models/gemini-2.5-flash\n",
      " - models/gemini-2.5-flash-lite-preview-06-17\n",
      " - models/gemini-2.5-pro-preview-05-06\n",
      " - models/gemini-2.5-pro-preview-06-05\n",
      " - models/gemini-2.5-pro\n",
      " - models/gemini-2.0-flash-exp\n",
      " - models/gemini-2.0-flash\n",
      " - models/gemini-2.0-flash-001\n",
      " - models/gemini-2.0-flash-exp-image-generation\n",
      " - models/gemini-2.0-flash-lite-001\n",
      " - models/gemini-2.0-flash-lite\n",
      " - models/gemini-2.0-flash-preview-image-generation\n",
      " - models/gemini-2.0-flash-lite-preview-02-05\n",
      " - models/gemini-2.0-flash-lite-preview\n",
      " - models/gemini-2.0-pro-exp\n",
      " - models/gemini-2.0-pro-exp-02-05\n",
      " - models/gemini-exp-1206\n",
      " - models/gemini-2.0-flash-thinking-exp-01-21\n",
      " - models/gemini-2.0-flash-thinking-exp\n",
      " - models/gemini-2.0-flash-thinking-exp-1219\n",
      " - models/gemini-2.5-flash-preview-tts\n",
      " - models/gemini-2.5-pro-preview-tts\n",
      " - models/learnlm-2.0-flash-experimental\n",
      " - models/gemma-3-1b-it\n",
      " - models/gemma-3-4b-it\n",
      " - models/gemma-3-12b-it\n",
      " - models/gemma-3-27b-it\n",
      " - models/gemma-3n-e4b-it\n",
      " - models/gemma-3n-e2b-it\n",
      " - models/gemini-flash-latest\n",
      " - models/gemini-flash-lite-latest\n",
      " - models/gemini-pro-latest\n",
      " - models/gemini-2.5-flash-lite\n",
      " - models/gemini-2.5-flash-image-preview\n",
      " - models/gemini-2.5-flash-image\n",
      " - models/gemini-2.5-flash-preview-09-2025\n",
      " - models/gemini-2.5-flash-lite-preview-09-2025\n",
      " - models/gemini-robotics-er-1.5-preview\n",
      " - models/gemini-2.5-computer-use-preview-10-2025\n"
     ]
    }
   ]
  },
  {
   "cell_type": "code",
   "source": [
    "def predict_and_reply(text):\n",
    "    clean = clean_text(text)\n",
    "    seq = tokenizer.texts_to_sequences([clean])\n",
    "    padded = pad_sequences(seq, maxlen=maxlen, padding='post')\n",
    "    pred_idx = model.predict(padded).argmax(axis=1)[0]\n",
    "    pred_queue = label_encoder.inverse_transform([pred_idx])[0]\n",
    "    print(f\" Predicted Category: {pred_queue}\")\n",
    "    reply = gemini_generate_reply(text, pred_queue)\n",
    "    return pred_queue, reply"
   ],
   "metadata": {
    "id": "AYCQeIN_M7g6"
   },
   "execution_count": 15,
   "outputs": []
  },
  {
   "cell_type": "code",
   "source": [
    "example_ticket = \"My internet connection is very slow today. I cannot browse websites or watch videos.\"\n",
    "predicted_category, generated_reply = predict_and_reply(example_ticket)\n",
    "\n",
    "print(\"\\n Generated Reply:\")\n",
    "print(generated_reply)\n"
   ],
   "metadata": {
    "colab": {
     "base_uri": "https://localhost:8080/",
     "height": 662
    },
    "id": "fryeR0MjM9WU",
    "outputId": "ba05942a-e56f-490b-94ce-9d5e8f05c355"
   },
   "execution_count": 16,
   "outputs": [
    {
     "output_type": "stream",
     "name": "stdout",
     "text": [
      "\u001b[1m1/1\u001b[0m \u001b[32m━━━━━━━━━━━━━━━━━━━━\u001b[0m\u001b[37m\u001b[0m \u001b[1m1s\u001b[0m 511ms/step\n",
      " Predicted Category: Technical Support\n",
      "\n",
      " Generated Reply:\n",
      "Of course. Here is a professional reply you can use.\n",
      "\n",
      "***\n",
      "\n",
      "**Subject: Regarding Your Slow Internet Connection**\n",
      "\n",
      "Hello,\n",
      "\n",
      "Thank you for reaching out to XYZ LLC Support. My name is Omprakash, and I'm very sorry to hear that you're experiencing a slow internet connection today. I understand how frustrating it is when you can't browse websites or watch videos, and I'm here to help get this resolved for you.\n",
      "\n",
      "Often, a simple restart of your equipment can fix this type of issue. Could you please try a \"power cycle\" by following these steps?\n",
      "\n",
      "1.  Unplug both your modem and your router from the power outlet.\n",
      "2.  Wait for 60 seconds. This allows the devices to fully reset.\n",
      "3.  Plug the modem back in first. Wait for its lights to become solid and stable (usually about 2-3 minutes).\n",
      "4.  Once the modem is online, plug your router back in and wait for it to boot up completely.\n",
      "\n",
      "After a few minutes, please try to browse a website to see if the speed has improved.\n",
      "\n",
      "If the issue persists after this restart, could you please reply with the following information? This will help me investigate further from my end.\n",
      "\n",
      "*   Is the slow speed happening on all your devices (e.g., computer, phone, TV) or just one?\n",
      "*   Are you connected via Wi-Fi or a direct Ethernet cable?\n",
      "*   Your account number or the full service address.\n",
      "\n",
      "We'll do everything we can to get your internet back to its normal speed as quickly as possible.\n",
      "\n",
      "Best regards,\n",
      "\n",
      "**Omprakash**\n",
      "Technical Support\n",
      "XYZ LLC\n"
     ]
    }
   ]
  },
  {
   "cell_type": "code",
   "source": [
    "def generate_reply(body):\n",
    "  predicted_category, generated_reply = predict_and_reply(body)\n",
    "\n",
    "  print(\"\\n Generated Reply:\")\n",
    "  print(generated_reply)"
   ],
   "metadata": {
    "id": "fCKMj6d4Nr_U"
   },
   "execution_count": 21,
   "outputs": []
  },
  {
   "cell_type": "code",
   "source": [
    "generate_reply(df['body'][1])"
   ],
   "metadata": {
    "colab": {
     "base_uri": "https://localhost:8080/",
     "height": 540
    },
    "id": "-CYzQ7_iOYzP",
    "outputId": "8618628b-5a74-40d0-c791-1b24723853ef"
   },
   "execution_count": 23,
   "outputs": [
    {
     "output_type": "stream",
     "name": "stdout",
     "text": [
      "\u001b[1m1/1\u001b[0m \u001b[32m━━━━━━━━━━━━━━━━━━━━\u001b[0m\u001b[37m\u001b[0m \u001b[1m0s\u001b[0m 61ms/step\n",
      " Predicted Category: Product Support\n",
      "\n",
      " Generated Reply:\n",
      "Of course. Here is a professional, helpful, and empathetic reply.\n",
      "\n",
      "***\n",
      "\n",
      "**Subject: Regarding the Account Management Portal Outage**\n",
      "\n",
      "Dear [Customer Name],\n",
      "\n",
      "Thank you for reaching out to us and for your detailed report about the centralized account management portal.\n",
      "\n",
      "I sincerely apologize for the significant inconvenience this outage is causing. I understand how frustrating it is to be unable to access your account settings, and I appreciate you taking the time to perform troubleshooting steps on your end.\n",
      "\n",
      "I can confirm that we are currently experiencing an unexpected outage with our account management portal. Our engineering team has been alerted and is investigating the issue with the highest priority. Please be assured that we are working to restore service as quickly as possible.\n",
      "\n",
      "While we do not have a firm estimated time for resolution just yet, we are committed to providing updates as we learn more. For the most current information, you can visit our official status page here: [Link to your company's status page, e.g., status.xyz.com]\n",
      "\n",
      "Regarding alternative ways to manage your account, while direct portal access is unavailable, our support team is on standby to assist with urgent requests. If you need to make any critical changes, such as updating security settings or billing information, please reply directly to this email with the details, and I will personally assist you.\n",
      "\n",
      "We will notify you again as soon as the portal is back online. Thank you for your patience and understanding as we work to resolve this.\n",
      "\n",
      "Best regards,\n",
      "\n",
      "**Omprakash**\n",
      "Product Support Specialist\n",
      "XYZ LLC\n"
     ]
    }
   ]
  },
  {
   "cell_type": "code",
   "source": [
    "generate_reply(df['body'][1])"
   ],
   "metadata": {
    "id": "L7YYaljqQvU6"
   },
   "execution_count": null,
   "outputs": []
  }
 ]
}